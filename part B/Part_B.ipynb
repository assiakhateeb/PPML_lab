{
 "cells": [
  {
   "cell_type": "code",
   "execution_count": 27,
   "id": "a59f5542-2f4f-46d9-b4b7-14ae68508e94",
   "metadata": {},
   "outputs": [],
   "source": [
    "# Importing Libraries\n",
    "import pandas as pd\n",
    "from sklearn.datasets import load_iris\n",
    "from sklearn.tree import DecisionTreeClassifier\n",
    "from sklearn.model_selection import train_test_split"
   ]
  },
  {
   "cell_type": "code",
   "execution_count": 28,
   "id": "5a3fd35d-bcff-4164-93c6-9df1b7a1736f",
   "metadata": {},
   "outputs": [
    {
     "name": "stdout",
     "output_type": "stream",
     "text": [
      "     sepal length (cm)  sepal width (cm)  petal length (cm)  petal width (cm)\n",
      "0                  5.1               3.5                1.4               0.2\n",
      "1                  4.9               3.0                1.4               0.2\n",
      "2                  4.7               3.2                1.3               0.2\n",
      "3                  4.6               3.1                1.5               0.2\n",
      "4                  5.0               3.6                1.4               0.2\n",
      "..                 ...               ...                ...               ...\n",
      "145                6.7               3.0                5.2               2.3\n",
      "146                6.3               2.5                5.0               1.9\n",
      "147                6.5               3.0                5.2               2.0\n",
      "148                6.2               3.4                5.4               2.3\n",
      "149                5.9               3.0                5.1               1.8\n",
      "\n",
      "[150 rows x 4 columns]\n"
     ]
    }
   ],
   "source": [
    "#Load Data and store it into pandas DataFrame objects\n",
    "iris = load_iris()\n",
    "X = pd.DataFrame(iris.data[:, :], columns=iris.feature_names[:])\n",
    "print(X)"
   ]
  },
  {
   "cell_type": "code",
   "execution_count": 29,
   "id": "b31e9dcd-2391-4cf6-b1d9-c466fd816078",
   "metadata": {},
   "outputs": [
    {
     "name": "stdout",
     "output_type": "stream",
     "text": [
      "     Species\n",
      "0          0\n",
      "1          0\n",
      "2          0\n",
      "3          0\n",
      "4          0\n",
      "..       ...\n",
      "145        2\n",
      "146        2\n",
      "147        2\n",
      "148        2\n",
      "149        2\n",
      "\n",
      "[150 rows x 1 columns]\n"
     ]
    }
   ],
   "source": [
    "Y = pd.DataFrame(iris.target, columns=[\"Species\"])\n",
    "# Species are setosa,versicolor,virginica\n",
    "print(Y)"
   ]
  },
  {
   "cell_type": "code",
   "execution_count": 30,
   "id": "9b0eeb19-39bb-4bf3-a38f-4c701a019f68",
   "metadata": {},
   "outputs": [],
   "source": [
    "X_train, X_test, Y_train, Y_test = train_test_split(X, Y, test_size=0.25)"
   ]
  },
  {
   "cell_type": "code",
   "execution_count": 31,
   "id": "316bd2e6-4296-4fdd-b1ac-6303e322fdda",
   "metadata": {},
   "outputs": [
    {
     "data": {
      "text/plain": [
       "(112, 4)"
      ]
     },
     "execution_count": 31,
     "metadata": {},
     "output_type": "execute_result"
    }
   ],
   "source": [
    "X_train.shape "
   ]
  },
  {
   "cell_type": "code",
   "execution_count": 32,
   "id": "9173f4b3-d27d-4a3f-9b5b-91429601a589",
   "metadata": {},
   "outputs": [
    {
     "data": {
      "text/plain": [
       "(38, 4)"
      ]
     },
     "execution_count": 32,
     "metadata": {},
     "output_type": "execute_result"
    }
   ],
   "source": [
    "X_test.shape"
   ]
  },
  {
   "cell_type": "code",
   "execution_count": 33,
   "id": "e527d521-d3de-416d-bde7-de11171668d2",
   "metadata": {},
   "outputs": [
    {
     "data": {
      "text/plain": [
       "(112, 1)"
      ]
     },
     "execution_count": 33,
     "metadata": {},
     "output_type": "execute_result"
    }
   ],
   "source": [
    "Y_train.shape "
   ]
  },
  {
   "cell_type": "code",
   "execution_count": 34,
   "id": "bfdde4c7-ab49-436d-a7aa-870b018bf237",
   "metadata": {},
   "outputs": [
    {
     "data": {
      "text/plain": [
       "(38, 1)"
      ]
     },
     "execution_count": 34,
     "metadata": {},
     "output_type": "execute_result"
    }
   ],
   "source": [
    "Y_test.shape "
   ]
  },
  {
   "cell_type": "code",
   "execution_count": 35,
   "id": "29d9b4b7-3f13-4ac6-a46f-85553a0a93c5",
   "metadata": {},
   "outputs": [
    {
     "data": {
      "text/plain": [
       "DecisionTreeClassifier(max_depth=5)"
      ]
     },
     "execution_count": 35,
     "metadata": {},
     "output_type": "execute_result"
    }
   ],
   "source": [
    "# Now let's fit a DecisionTreeClassifier instance\n",
    "tree = DecisionTreeClassifier(max_depth=5)\n",
    "tree.fit(X_train,Y_train)"
   ]
  },
  {
   "cell_type": "code",
   "execution_count": 36,
   "id": "ec3a2833-fc42-4985-bcb9-bb829f47a658",
   "metadata": {},
   "outputs": [
    {
     "data": {
      "text/plain": [
       "0.9473684210526315"
      ]
     },
     "execution_count": 36,
     "metadata": {},
     "output_type": "execute_result"
    }
   ],
   "source": [
    "tree.score(X_test, Y_test)"
   ]
  },
  {
   "cell_type": "code",
   "execution_count": 37,
   "id": "5a5776ba-eb42-4c67-84d8-91d01bdc9391",
   "metadata": {},
   "outputs": [],
   "source": [
    "# Visualizing the build Decision tree\n",
    "from sklearn.tree import export_graphviz\n",
    "\n",
    "\"\"\" gini is a measure that is used to find a node to split on it\n",
    "    samples refer to the number of samples that are entering this node\n",
    "    value is a split of the data instances according to their class \n",
    "    value = [instances_num_of_setosa, instances_num_of_versicolor, instances_num_of_virginica]\n",
    "    class is what the decision tree would predict\n",
    "\"\"\"\n",
    "# Creates dot file named tree.dot\n",
    "export_graphviz(tree, out_file=\"myTree.dot\", feature_names=list(X.columns),\n",
    "                class_names=iris.target_names,\n",
    "                filled=True, rounded=True)\n"
   ]
  },
  {
   "cell_type": "code",
   "execution_count": 38,
   "id": "5df6d1e4-95c7-4770-9ec8-1cfd42d20878",
   "metadata": {},
   "outputs": [
    {
     "name": "stdout",
     "output_type": "stream",
     "text": [
      "versicolor\n"
     ]
    }
   ],
   "source": [
    "# Making a Prediction on a new sample \n",
    "sample_data1 = int(tree.predict([[5, 5, 1, 3]]))\n",
    "print(iris.target_names[sample_data1])"
   ]
  },
  {
   "cell_type": "code",
   "execution_count": 39,
   "id": "be093548-43d8-4853-98cc-ffc14fc5b8fe",
   "metadata": {},
   "outputs": [
    {
     "name": "stdout",
     "output_type": "stream",
     "text": [
      "versicolor\n"
     ]
    }
   ],
   "source": [
    "sample_data1 = int(tree.predict([[5, 5, 2.6, 1.5]]))\n",
    "print(iris.target_names[sample_data1])"
   ]
  },
  {
   "cell_type": "code",
   "execution_count": 40,
   "id": "d04909e8-a63a-43c2-94cf-4ba68e23b64f",
   "metadata": {},
   "outputs": [
    {
     "name": "stdout",
     "output_type": "stream",
     "text": [
      "virginica\n"
     ]
    }
   ],
   "source": [
    "sample_data1 = int(tree.predict([[5, 5, 15, 5]]))\n",
    "print(iris.target_names[sample_data1])"
   ]
  },
  {
   "cell_type": "code",
   "execution_count": 41,
   "id": "3561839c-4ecc-4b9d-9f4c-0e5b1af075ee",
   "metadata": {},
   "outputs": [
    {
     "name": "stdout",
     "output_type": "stream",
     "text": [
      "versicolor\n"
     ]
    }
   ],
   "source": [
    "sample_data1 = int(tree.predict([[1.3, 7, 2.5, 4]]))\n",
    "print(iris.target_names[sample_data1])"
   ]
  }
 ],
 "metadata": {
  "kernelspec": {
   "display_name": "Python 3",
   "language": "python",
   "name": "python3"
  },
  "language_info": {
   "codemirror_mode": {
    "name": "ipython",
    "version": 3
   },
   "file_extension": ".py",
   "mimetype": "text/x-python",
   "name": "python",
   "nbconvert_exporter": "python",
   "pygments_lexer": "ipython3",
   "version": "3.9.0"
  }
 },
 "nbformat": 4,
 "nbformat_minor": 5
}

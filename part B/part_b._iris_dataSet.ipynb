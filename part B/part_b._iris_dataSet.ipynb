{
 "cells": [
  {
   "cell_type": "code",
   "execution_count": 2,
   "id": "a59f5542-2f4f-46d9-b4b7-14ae68508e94",
   "metadata": {},
   "outputs": [],
   "source": [
    "# Importing Libraries\n",
    "import pandas as pd\n",
    "from sklearn.datasets import load_iris\n",
    "from sklearn.tree import DecisionTreeClassifier\n",
    "from sklearn.model_selection import train_test_split\n",
    "from sklearn import tree\n",
    "import matplotlib.pyplot as plt\n",
    "from sklearn.preprocessing import MinMaxScaler\n",
    "import numpy as np\n",
    "from sklearn.base import clone\n",
    "from my_tree import *"
   ]
  },
  {
   "cell_type": "code",
   "execution_count": 3,
   "id": "5a3fd35d-bcff-4164-93c6-9df1b7a1736f",
   "metadata": {},
   "outputs": [
    {
     "name": "stdout",
     "output_type": "stream",
     "text": [
      "     sepal length (cm)  sepal width (cm)  petal length (cm)  petal width (cm)\n",
      "0                  5.1               3.5                1.4               0.2\n",
      "1                  4.9               3.0                1.4               0.2\n",
      "2                  4.7               3.2                1.3               0.2\n",
      "3                  4.6               3.1                1.5               0.2\n",
      "4                  5.0               3.6                1.4               0.2\n",
      "..                 ...               ...                ...               ...\n",
      "145                6.7               3.0                5.2               2.3\n",
      "146                6.3               2.5                5.0               1.9\n",
      "147                6.5               3.0                5.2               2.0\n",
      "148                6.2               3.4                5.4               2.3\n",
      "149                5.9               3.0                5.1               1.8\n",
      "\n",
      "[150 rows x 4 columns]\n"
     ]
    }
   ],
   "source": [
    "#Load Data and store it into pandas DataFrame objects\n",
    "iris = load_iris()\n",
    "X = pd.DataFrame(iris.data[:, :], columns=iris.feature_names[:])\n",
    "print(X)"
   ]
  },
  {
   "cell_type": "code",
   "execution_count": 4,
   "id": "e14cb901-7d7c-4baf-816f-6ba26fbf2106",
   "metadata": {},
   "outputs": [
    {
     "name": "stdout",
     "output_type": "stream",
     "text": [
      "     sepal length (cm)  sepal width (cm)  petal length (cm)  petal width (cm)\n",
      "0            -0.555556          0.250000          -0.864407         -0.916667\n",
      "1            -0.666667         -0.166667          -0.864407         -0.916667\n",
      "2            -0.777778          0.000000          -0.898305         -0.916667\n",
      "3            -0.833333         -0.083333          -0.830508         -0.916667\n",
      "4            -0.611111          0.333333          -0.864407         -0.916667\n",
      "..                 ...               ...                ...               ...\n",
      "145           0.333333         -0.166667           0.423729          0.833333\n",
      "146           0.111111         -0.583333           0.355932          0.500000\n",
      "147           0.222222         -0.166667           0.423729          0.583333\n",
      "148           0.055556          0.166667           0.491525          0.833333\n",
      "149          -0.111111         -0.166667           0.389831          0.416667\n",
      "\n",
      "[150 rows x 4 columns]\n"
     ]
    }
   ],
   "source": [
    "# preprocessing 1 - Feature scaling\n",
    "# rescale a range between an arbitrary set of values [a, b] where a=-1, b=1\n",
    "scaler = MinMaxScaler(feature_range=(-1, 1)) # build the scaler model\n",
    "X_rescaled_features = scaler.fit_transform(X) \n",
    "X_rescaled_features = pd.DataFrame(X_rescaled_features[:, :], columns=iris.feature_names[:])\n",
    "print(X_rescaled_features)"
   ]
  },
  {
   "cell_type": "code",
   "execution_count": 5,
   "id": "b31e9dcd-2391-4cf6-b1d9-c466fd816078",
   "metadata": {},
   "outputs": [
    {
     "name": "stdout",
     "output_type": "stream",
     "text": [
      "     Species\n",
      "0          0\n",
      "1          0\n",
      "2          0\n",
      "3          0\n",
      "4          0\n",
      "..       ...\n",
      "145        2\n",
      "146        2\n",
      "147        2\n",
      "148        2\n",
      "149        2\n",
      "\n",
      "[150 rows x 1 columns]\n"
     ]
    }
   ],
   "source": [
    "Y = pd.DataFrame(iris.target, columns=[\"Species\"])\n",
    "# Species are setosa,versicolor,virginica\n",
    "print(Y)"
   ]
  },
  {
   "cell_type": "code",
   "execution_count": 6,
   "id": "2ed52fcc-bcd4-4877-b005-6d96d635e859",
   "metadata": {},
   "outputs": [
    {
     "name": "stdout",
     "output_type": "stream",
     "text": [
      "     Species\n",
      "0       -1.0\n",
      "1       -1.0\n",
      "2       -1.0\n",
      "3       -1.0\n",
      "4       -1.0\n",
      "..       ...\n",
      "145      1.0\n",
      "146      1.0\n",
      "147      1.0\n",
      "148      1.0\n",
      "149      1.0\n",
      "\n",
      "[150 rows x 1 columns]\n"
     ]
    }
   ],
   "source": [
    "# preprocessing 1 - Feature scaling\n",
    "Y_rescaled_features = scaler.fit_transform(Y)\n",
    "Y_rescaled_features = pd.DataFrame(Y_rescaled_features, columns=[\"Species\"])\n",
    "print(Y_rescaled_features)"
   ]
  },
  {
   "cell_type": "code",
   "execution_count": 152,
   "id": "9b0eeb19-39bb-4bf3-a38f-4c701a019f68",
   "metadata": {},
   "outputs": [],
   "source": [
    "# Train the model on the data\n",
    "X_train, X_test, Y_train, Y_test = train_test_split(X_rescaled_features, Y_rescaled_features, test_size=0.3)"
   ]
  },
  {
   "cell_type": "code",
   "execution_count": 153,
   "id": "316bd2e6-4296-4fdd-b1ac-6303e322fdda",
   "metadata": {},
   "outputs": [
    {
     "data": {
      "text/plain": [
       "(105, 4)"
      ]
     },
     "execution_count": 153,
     "metadata": {},
     "output_type": "execute_result"
    }
   ],
   "source": [
    "X_train.shape "
   ]
  },
  {
   "cell_type": "code",
   "execution_count": 154,
   "id": "f94c0581-f747-40f6-ad7f-d939dbb81351",
   "metadata": {},
   "outputs": [
    {
     "data": {
      "text/html": [
       "<div>\n",
       "<style scoped>\n",
       "    .dataframe tbody tr th:only-of-type {\n",
       "        vertical-align: middle;\n",
       "    }\n",
       "\n",
       "    .dataframe tbody tr th {\n",
       "        vertical-align: top;\n",
       "    }\n",
       "\n",
       "    .dataframe thead th {\n",
       "        text-align: right;\n",
       "    }\n",
       "</style>\n",
       "<table border=\"1\" class=\"dataframe\">\n",
       "  <thead>\n",
       "    <tr style=\"text-align: right;\">\n",
       "      <th></th>\n",
       "      <th>sepal length (cm)</th>\n",
       "      <th>sepal width (cm)</th>\n",
       "      <th>petal length (cm)</th>\n",
       "      <th>petal width (cm)</th>\n",
       "    </tr>\n",
       "  </thead>\n",
       "  <tbody>\n",
       "    <tr>\n",
       "      <th>110</th>\n",
       "      <td>0.222222</td>\n",
       "      <td>0.000000</td>\n",
       "      <td>0.389831</td>\n",
       "      <td>0.583333</td>\n",
       "    </tr>\n",
       "    <tr>\n",
       "      <th>13</th>\n",
       "      <td>-1.000000</td>\n",
       "      <td>-0.166667</td>\n",
       "      <td>-0.966102</td>\n",
       "      <td>-1.000000</td>\n",
       "    </tr>\n",
       "    <tr>\n",
       "      <th>144</th>\n",
       "      <td>0.333333</td>\n",
       "      <td>0.083333</td>\n",
       "      <td>0.593220</td>\n",
       "      <td>1.000000</td>\n",
       "    </tr>\n",
       "    <tr>\n",
       "      <th>145</th>\n",
       "      <td>0.333333</td>\n",
       "      <td>-0.166667</td>\n",
       "      <td>0.423729</td>\n",
       "      <td>0.833333</td>\n",
       "    </tr>\n",
       "    <tr>\n",
       "      <th>81</th>\n",
       "      <td>-0.333333</td>\n",
       "      <td>-0.666667</td>\n",
       "      <td>-0.084746</td>\n",
       "      <td>-0.250000</td>\n",
       "    </tr>\n",
       "    <tr>\n",
       "      <th>...</th>\n",
       "      <td>...</td>\n",
       "      <td>...</td>\n",
       "      <td>...</td>\n",
       "      <td>...</td>\n",
       "    </tr>\n",
       "    <tr>\n",
       "      <th>12</th>\n",
       "      <td>-0.722222</td>\n",
       "      <td>-0.166667</td>\n",
       "      <td>-0.864407</td>\n",
       "      <td>-1.000000</td>\n",
       "    </tr>\n",
       "    <tr>\n",
       "      <th>105</th>\n",
       "      <td>0.833333</td>\n",
       "      <td>-0.166667</td>\n",
       "      <td>0.898305</td>\n",
       "      <td>0.666667</td>\n",
       "    </tr>\n",
       "    <tr>\n",
       "      <th>22</th>\n",
       "      <td>-0.833333</td>\n",
       "      <td>0.333333</td>\n",
       "      <td>-1.000000</td>\n",
       "      <td>-0.916667</td>\n",
       "    </tr>\n",
       "    <tr>\n",
       "      <th>38</th>\n",
       "      <td>-0.944444</td>\n",
       "      <td>-0.166667</td>\n",
       "      <td>-0.898305</td>\n",
       "      <td>-0.916667</td>\n",
       "    </tr>\n",
       "    <tr>\n",
       "      <th>95</th>\n",
       "      <td>-0.222222</td>\n",
       "      <td>-0.166667</td>\n",
       "      <td>0.084746</td>\n",
       "      <td>-0.083333</td>\n",
       "    </tr>\n",
       "  </tbody>\n",
       "</table>\n",
       "<p>105 rows × 4 columns</p>\n",
       "</div>"
      ],
      "text/plain": [
       "     sepal length (cm)  sepal width (cm)  petal length (cm)  petal width (cm)\n",
       "110           0.222222          0.000000           0.389831          0.583333\n",
       "13           -1.000000         -0.166667          -0.966102         -1.000000\n",
       "144           0.333333          0.083333           0.593220          1.000000\n",
       "145           0.333333         -0.166667           0.423729          0.833333\n",
       "81           -0.333333         -0.666667          -0.084746         -0.250000\n",
       "..                 ...               ...                ...               ...\n",
       "12           -0.722222         -0.166667          -0.864407         -1.000000\n",
       "105           0.833333         -0.166667           0.898305          0.666667\n",
       "22           -0.833333          0.333333          -1.000000         -0.916667\n",
       "38           -0.944444         -0.166667          -0.898305         -0.916667\n",
       "95           -0.222222         -0.166667           0.084746         -0.083333\n",
       "\n",
       "[105 rows x 4 columns]"
      ]
     },
     "execution_count": 154,
     "metadata": {},
     "output_type": "execute_result"
    }
   ],
   "source": [
    "X_train"
   ]
  },
  {
   "cell_type": "code",
   "execution_count": 155,
   "id": "9173f4b3-d27d-4a3f-9b5b-91429601a589",
   "metadata": {},
   "outputs": [
    {
     "data": {
      "text/plain": [
       "(45, 4)"
      ]
     },
     "execution_count": 155,
     "metadata": {},
     "output_type": "execute_result"
    }
   ],
   "source": [
    "X_test.shape"
   ]
  },
  {
   "cell_type": "code",
   "execution_count": 156,
   "id": "e527d521-d3de-416d-bde7-de11171668d2",
   "metadata": {},
   "outputs": [
    {
     "data": {
      "text/plain": [
       "(105, 1)"
      ]
     },
     "execution_count": 156,
     "metadata": {},
     "output_type": "execute_result"
    }
   ],
   "source": [
    "Y_train.shape "
   ]
  },
  {
   "cell_type": "code",
   "execution_count": 157,
   "id": "bfdde4c7-ab49-436d-a7aa-870b018bf237",
   "metadata": {},
   "outputs": [
    {
     "data": {
      "text/plain": [
       "(45, 1)"
      ]
     },
     "execution_count": 157,
     "metadata": {},
     "output_type": "execute_result"
    }
   ],
   "source": [
    "Y_test.shape "
   ]
  },
  {
   "cell_type": "code",
   "execution_count": 158,
   "id": "dc5a3157-2613-406d-8aaf-a0d21b9f06d1",
   "metadata": {},
   "outputs": [
    {
     "data": {
      "text/html": [
       "<div>\n",
       "<style scoped>\n",
       "    .dataframe tbody tr th:only-of-type {\n",
       "        vertical-align: middle;\n",
       "    }\n",
       "\n",
       "    .dataframe tbody tr th {\n",
       "        vertical-align: top;\n",
       "    }\n",
       "\n",
       "    .dataframe thead th {\n",
       "        text-align: right;\n",
       "    }\n",
       "</style>\n",
       "<table border=\"1\" class=\"dataframe\">\n",
       "  <thead>\n",
       "    <tr style=\"text-align: right;\">\n",
       "      <th></th>\n",
       "      <th>Species</th>\n",
       "    </tr>\n",
       "  </thead>\n",
       "  <tbody>\n",
       "    <tr>\n",
       "      <th>121</th>\n",
       "      <td>1.0</td>\n",
       "    </tr>\n",
       "    <tr>\n",
       "      <th>149</th>\n",
       "      <td>1.0</td>\n",
       "    </tr>\n",
       "    <tr>\n",
       "      <th>136</th>\n",
       "      <td>1.0</td>\n",
       "    </tr>\n",
       "    <tr>\n",
       "      <th>112</th>\n",
       "      <td>1.0</td>\n",
       "    </tr>\n",
       "    <tr>\n",
       "      <th>62</th>\n",
       "      <td>0.0</td>\n",
       "    </tr>\n",
       "    <tr>\n",
       "      <th>119</th>\n",
       "      <td>1.0</td>\n",
       "    </tr>\n",
       "    <tr>\n",
       "      <th>118</th>\n",
       "      <td>1.0</td>\n",
       "    </tr>\n",
       "    <tr>\n",
       "      <th>115</th>\n",
       "      <td>1.0</td>\n",
       "    </tr>\n",
       "    <tr>\n",
       "      <th>120</th>\n",
       "      <td>1.0</td>\n",
       "    </tr>\n",
       "    <tr>\n",
       "      <th>66</th>\n",
       "      <td>0.0</td>\n",
       "    </tr>\n",
       "  </tbody>\n",
       "</table>\n",
       "</div>"
      ],
      "text/plain": [
       "     Species\n",
       "121      1.0\n",
       "149      1.0\n",
       "136      1.0\n",
       "112      1.0\n",
       "62       0.0\n",
       "119      1.0\n",
       "118      1.0\n",
       "115      1.0\n",
       "120      1.0\n",
       "66       0.0"
      ]
     },
     "execution_count": 158,
     "metadata": {},
     "output_type": "execute_result"
    }
   ],
   "source": [
    "Y_test[0:10]"
   ]
  },
  {
   "cell_type": "code",
   "execution_count": 159,
   "id": "29d9b4b7-3f13-4ac6-a46f-85553a0a93c5",
   "metadata": {},
   "outputs": [
    {
     "data": {
      "text/plain": [
       "DecisionTreeClassifier(max_depth=5)"
      ]
     },
     "execution_count": 159,
     "metadata": {},
     "output_type": "execute_result"
    }
   ],
   "source": [
    "# Now let's fit a DecisionTreeClassifier instance\n",
    "Dtree = DecisionTreeClassifier(max_depth=5)\n",
    "Dtree.fit(X_train,Y_train)"
   ]
  },
  {
   "cell_type": "code",
   "execution_count": 160,
   "id": "ec3a2833-fc42-4985-bcb9-bb829f47a658",
   "metadata": {},
   "outputs": [
    {
     "data": {
      "text/plain": [
       "0.9555555555555556"
      ]
     },
     "execution_count": 160,
     "metadata": {},
     "output_type": "execute_result"
    }
   ],
   "source": [
    "Dtree.score(X_test, Y_test)"
   ]
  },
  {
   "cell_type": "code",
   "execution_count": 161,
   "id": "41dc9fd9-ead5-422a-94b4-b31a7fe9f0c6",
   "metadata": {},
   "outputs": [
    {
     "name": "stdout",
     "output_type": "stream",
     "text": [
      "versicolor\n"
     ]
    }
   ],
   "source": [
    "# Making a Prediction on a new sample \n",
    "sample_data1 = int(Dtree.predict([[5, 5, 1, 3]]))\n",
    "print(iris.target_names[sample_data1])"
   ]
  },
  {
   "cell_type": "code",
   "execution_count": 162,
   "id": "be093548-43d8-4853-98cc-ffc14fc5b8fe",
   "metadata": {},
   "outputs": [
    {
     "name": "stdout",
     "output_type": "stream",
     "text": [
      "versicolor\n"
     ]
    }
   ],
   "source": [
    "sample_data1 = int(Dtree.predict([[5, 5, 2.6, 1.5]]))\n",
    "print(iris.target_names[sample_data1])"
   ]
  },
  {
   "cell_type": "code",
   "execution_count": 163,
   "id": "d04909e8-a63a-43c2-94cf-4ba68e23b64f",
   "metadata": {},
   "outputs": [
    {
     "name": "stdout",
     "output_type": "stream",
     "text": [
      "versicolor\n"
     ]
    }
   ],
   "source": [
    "sample_data1 = int(Dtree.predict([[5, 5, 15, 5]]))\n",
    "print(iris.target_names[sample_data1])"
   ]
  },
  {
   "cell_type": "code",
   "execution_count": 164,
   "id": "3561839c-4ecc-4b9d-9f4c-0e5b1af075ee",
   "metadata": {},
   "outputs": [
    {
     "name": "stdout",
     "output_type": "stream",
     "text": [
      "versicolor\n"
     ]
    }
   ],
   "source": [
    "sample_data1 = int(Dtree.predict([[1.3, 7, 2.5, 4]]))\n",
    "print(iris.target_names[sample_data1])"
   ]
  },
  {
   "cell_type": "code",
   "execution_count": 165,
   "id": "dcf3ace4-e485-4da6-8272-34b06c62d497",
   "metadata": {},
   "outputs": [],
   "source": [
    "# tree.plot_tree(Dtree)\n",
    "# plt.show()"
   ]
  },
  {
   "cell_type": "code",
   "execution_count": 166,
   "id": "ef03c78f-44b0-4ee7-859a-5b1dd1baa1e8",
   "metadata": {},
   "outputs": [],
   "source": [
    "# Visualizing the build Decision tree\n",
    "#     gini is a measure that is used to find a node to split on it\n",
    "#     samples refer to the number of samples that are entering this node\n",
    "#     value is a split of the data instances according to their class \n",
    "#     value = [instances_num_of_setosa, instances_num_of_versicolor, instances_num_of_virginica]\n",
    "#     class is what the decision tree would predict\n",
    "\n",
    "# fn=['sepal length (cm)','sepal width (cm)','petal length (cm)','petal width (cm)']\n",
    "# cn=['setosa', 'versicolor', 'virginica']\n",
    "\n",
    "# # Setting dpi = 300 to make image clearer than default\n",
    "# # fig, axes = plt.subplots(nrows = 1,ncols = 1,figsize = (5,4), dpi=300)\n",
    "# fig, axes = plt.subplots(nrows = 1,ncols = 1,figsize = (2,3), dpi=300)\n",
    "# tree.plot_tree(Dtree,\n",
    "#            feature_names = fn, \n",
    "#            class_names=cn,\n",
    "#            filled = True);"
   ]
  },
  {
   "cell_type": "code",
   "execution_count": 167,
   "id": "7f0c0277-ac88-4b41-b9a9-2fb374380cfa",
   "metadata": {},
   "outputs": [
    {
     "name": "stdout",
     "output_type": "stream",
     "text": [
      "[[[38. 37. 30.]]\n",
      "\n",
      " [[38.  0.  0.]]\n",
      "\n",
      " [[ 0. 37. 30.]]\n",
      "\n",
      " [[ 0. 36.  3.]]\n",
      "\n",
      " [[ 0. 35.  1.]]\n",
      "\n",
      " [[ 0.  0.  1.]]\n",
      "\n",
      " [[ 0. 35.  0.]]\n",
      "\n",
      " [[ 0.  1.  2.]]\n",
      "\n",
      " [[ 0.  1.  0.]]\n",
      "\n",
      " [[ 0.  0.  2.]]\n",
      "\n",
      " [[ 0.  1. 27.]]\n",
      "\n",
      " [[ 0.  1.  1.]]\n",
      "\n",
      " [[ 0.  0.  1.]]\n",
      "\n",
      " [[ 0.  1.  0.]]\n",
      "\n",
      " [[ 0.  0. 26.]]]\n"
     ]
    }
   ],
   "source": [
    "print(Dtree.tree_.value)"
   ]
  },
  {
   "cell_type": "code",
   "execution_count": 168,
   "id": "6a979f08-c3bf-4706-ab65-51f7bfecc83d",
   "metadata": {},
   "outputs": [],
   "source": [
    "def find_leaves(X, clf):\n",
    "    \"\"\"A function to find leaves of a DecisionTreeClassifier\n",
    "    clf must be a fitted DecisionTreeClassifier\n",
    "    \"\"\"\n",
    "    return set(clf.apply(X)) # returns set of leaves indexes \n",
    "leaves = find_leaves(X_train, Dtree)"
   ]
  },
  {
   "cell_type": "code",
   "execution_count": 169,
   "id": "bb652f78-9511-4ba1-8e8e-f474f3654cd1",
   "metadata": {},
   "outputs": [
    {
     "name": "stdout",
     "output_type": "stream",
     "text": [
      "[[[38.  0.  0.]]\n",
      "\n",
      " [[ 0.  0.  1.]]\n",
      "\n",
      " [[ 0. 35.  0.]]\n",
      "\n",
      " [[ 0.  1.  0.]]\n",
      "\n",
      " [[ 0.  0.  2.]]\n",
      "\n",
      " [[ 0.  0.  1.]]\n",
      "\n",
      " [[ 0.  1.  0.]]\n",
      "\n",
      " [[ 0.  0. 26.]]]\n"
     ]
    }
   ],
   "source": [
    "leaves_value_list = []\n",
    "for l in leaves:\n",
    "    leaves_value_list.append(Dtree.tree_.value[l])\n",
    "\n",
    "leaves_value_list = np.array(leaves_value_list)\n",
    "print(leaves_value_list)"
   ]
  },
  {
   "cell_type": "code",
   "execution_count": 170,
   "id": "70bfa8e4-1572-4d9f-b67b-7589ae922898",
   "metadata": {},
   "outputs": [
    {
     "name": "stdout",
     "output_type": "stream",
     "text": [
      "[[[1. 0. 0.]]\n",
      "\n",
      " [[0. 0. 1.]]\n",
      "\n",
      " [[0. 1. 0.]]\n",
      "\n",
      " [[0. 1. 0.]]\n",
      "\n",
      " [[0. 0. 1.]]\n",
      "\n",
      " [[0. 0. 1.]]\n",
      "\n",
      " [[0. 1. 0.]]\n",
      "\n",
      " [[0. 0. 1.]]]\n"
     ]
    }
   ],
   "source": [
    "# preprocessing 2 - 1 hot encoding\n",
    "ohe = []\n",
    "for val in leaves_value_list:    \n",
    "    one_hot_encoding = np.zeros_like(val)\n",
    "    one_hot_encoding[np.arange(len(val)), val.argmax(1)] = 1\n",
    "    ohe.append(one_hot_encoding)\n",
    "    \n",
    "ohe = np.array(ohe) \n",
    "print(ohe)"
   ]
  },
  {
   "cell_type": "code",
   "execution_count": 171,
   "id": "2a0a7fda-c0e5-4e73-8023-96e9cae60f88",
   "metadata": {},
   "outputs": [],
   "source": [
    "# class T:\n",
    "#     tree = clone(Dtree)\n",
    "#     leaf_value = ohe\n",
    "\n",
    "# mytree = T()\n",
    "# # print(mytree.leaf_value)\n",
    "# mytree.tree.fit(X_train,Y_train)"
   ]
  },
  {
   "cell_type": "code",
   "execution_count": 172,
   "id": "e3136dab-c52f-4188-b343-d03d974042fc",
   "metadata": {},
   "outputs": [],
   "source": [
    "# numpy.linspace(start, stop, num_of_samples); Returns num evenly spaced samples,\n",
    "# calculated over the interval [start, stop]\n",
    "X = np.linspace(-2, 2, num=401)\n",
    "\n",
    "# concatenate((a1, a2, ...), axis=0); combines NumPy arrays together\n",
    "# axis=None => arrays are flattened before use.\n",
    "y1 = np.zeros(200)\n",
    "y2 = np.ones(1)\n",
    "y3 = np.ones(200)\n",
    "Y = np.concatenate((y1, y2, y3), axis=None)"
   ]
  },
  {
   "cell_type": "code",
   "execution_count": 173,
   "id": "e45aa280-7cde-4557-9dd4-1f6126793d43",
   "metadata": {},
   "outputs": [],
   "source": [
    "# weights functions\n",
    "w1 = np.concatenate(((2 / 7) * (np.ones(150)), np.zeros(101)), axis=None)\n",
    "\n",
    "# 7/2 is godel of range [0.25,2] + [-2,-0.25]\n",
    "# the first 150 values ([-2,0.25]) have a weight of 2/7\n",
    "# the next 101 values ([-0.25,0.25]) have a weight of 0\n",
    "# the last 150 values ([0.25,2]) have a weight of 2/7\n",
    "# weight = np.concatenate((partW1, (2/7)*np.ones(75)), axis=None)\n",
    "w2 = (2 / 7) * np.ones(150)\n",
    "weight = np.concatenate((w1, w2), axis=None)"
   ]
  },
  {
   "cell_type": "code",
   "execution_count": 174,
   "id": "107f61fb-6faf-4a9d-afa4-a09cc3b64d44",
   "metadata": {},
   "outputs": [
    {
     "name": "stdout",
     "output_type": "stream",
     "text": [
      "            32             31             30            29\n",
      "-6.915e-10 x  - 5.221e-05 x  + 2.342e-08 x  + 0.001771 x \n",
      "              28           27             26          25             24\n",
      " - 3.623e-07 x  - 0.02743 x  + 3.392e-06 x  + 0.2572 x  - 2.145e-05 x \n",
      "          23             22         21             20         19\n",
      " - 1.631 x  + 9.692e-05 x  + 7.391 x  - 0.0003228 x  - 24.71 x \n",
      "             18         17            16         15            14\n",
      " + 0.000806 x  + 62.01 x  - 0.001519 x  - 117.6 x  + 0.002159 x \n",
      "          13            12         11            10         9\n",
      " + 168.8 x  - 0.002298 x  - 181.9 x  + 0.001805 x  + 145.5 x\n",
      "            8         7             6        5             4         3\n",
      " - 0.00102 x - 84.61 x + 0.0003994 x + 34.8 x - 0.0001018 x - 9.861 x\n",
      "              2\n",
      " + 1.502e-05 x + 2.186 x + 0.5\n"
     ]
    }
   ],
   "source": [
    "# we use the above function in polyfit to help calculate the polynome\n",
    "# polyfit(x, y, deg, w); least square polynomial fit\n",
    "pf = np.polyfit(X, Y, 32, w=weight)\n",
    "# print(pf)\n",
    "# poly1d(c_or_r); The polynomial’s coefficients in decreasing powers\n",
    "phi = np.poly1d(pf)\n",
    "print(phi)"
   ]
  },
  {
   "cell_type": "code",
   "execution_count": 175,
   "id": "3879d1ef-ad20-4d84-9a0e-e92312337abb",
   "metadata": {},
   "outputs": [],
   "source": [
    "myline = np.linspace(-2, 2, 401)\n",
    "# plt.scatter(X, Y) "
   ]
  },
  {
   "cell_type": "code",
   "execution_count": 176,
   "id": "a03b0834-340e-4c47-9fe1-c9b5ced971e2",
   "metadata": {},
   "outputs": [
    {
     "data": {
      "text/plain": [
       "[<matplotlib.lines.Line2D at 0x1924f9bcca0>]"
      ]
     },
     "execution_count": 176,
     "metadata": {},
     "output_type": "execute_result"
    },
    {
     "data": {
      "image/png": "[encoded data removed]",
      "text/plain": [
       "<Figure size 432x288 with 1 Axes>"
      ]
     },
     "metadata": {
      "needs_background": "light"
     },
     "output_type": "display_data"
    }
   ],
   "source": [
    "plt.plot(phi(myline)) "
   ]
  },
  {
   "cell_type": "code",
   "execution_count": 193,
   "id": "040d666f-3697-4527-8bb5-7fe1f2b46f21",
   "metadata": {},
   "outputs": [
    {
     "data": {
      "image/png": "[encoded data removed]",
      "text/plain": [
       "<Figure size 1500x900 with 1 Axes>"
      ]
     },
     "metadata": {
      "needs_background": "light"
     },
     "output_type": "display_data"
    }
   ],
   "source": [
    "fn=['sepal length (cm)','sepal width (cm)','petal length (cm)','petal width (cm)']\n",
    "cn=['setosa', 'versicolor', 'virginica']\n",
    "\n",
    "# Setting dpi = 300 to make image clearer than default\n",
    "fig, axes = plt.subplots(nrows = 1,ncols = 1,figsize = (5,3), dpi=300)\n",
    "\n",
    "tree.plot_tree(Dtree,\n",
    "           feature_names = fn, \n",
    "           class_names=cn,\n",
    "           filled = True);"
   ]
  },
  {
   "cell_type": "code",
   "execution_count": 178,
   "id": "05c59974-0b79-497f-88b7-bfcb8692ae26",
   "metadata": {},
   "outputs": [
    {
     "name": "stdout",
     "output_type": "stream",
     "text": [
      " feature =  3 threshold =  -0.4166666567325592\n",
      "     leaf =  [1. 0. 0.]\n",
      "     feature =  3 threshold =  0.375\n",
      "         feature =  2 threshold =  0.37288135290145874\n",
      "             feature =  0 threshold =  -0.6388888955116272\n",
      "                 leaf =  [0. 0. 1.]\n",
      "                 leaf =  [0. 1. 0.]\n",
      "             feature =  0 threshold =  -0.027777777984738572\n",
      "                 leaf =  [0. 1. 0.]\n",
      "                 leaf =  [0. 0. 1.]\n",
      "         feature =  2 threshold =  0.3050847500562668\n",
      "             feature =  1 threshold =  -0.0833333358168602\n",
      "                 leaf =  [0. 0. 1.]\n",
      "                 leaf =  [0. 1. 0.]\n",
      "             leaf =  [0. 0. 1.]\n"
     ]
    }
   ],
   "source": [
    "DT = builtTree(Dtree)\n",
    "printTree(DT)"
   ]
  },
  {
   "cell_type": "code",
   "execution_count": 186,
   "id": "ba79c9d8-761b-4335-8aaa-ed0192b10e0f",
   "metadata": {},
   "outputs": [],
   "source": [
    "def Tree_Predict(T, x, depth=0):\n",
    "    if T is None:\n",
    "        return\n",
    "\n",
    "    feature, threshold, leaf, left, right = T.getNode()\n",
    "\n",
    "    if isinstance(leaf, np.ndarray):\n",
    "        # print(depth * ' ', 'leaf = ', leaf)\n",
    "        return leaf\n",
    "    else:\n",
    "        # print('phi1=', p(data[feature] - threshold))\n",
    "        # print('phi2=', p(threshold - data[feature]))\n",
    "        return (phi(x[feature] - threshold)) * Tree_Predict(right, x, depth + 4) + (\n",
    "            phi(threshold - x[feature])) * Tree_Predict(left, x, depth + 4)"
   ]
  },
  {
   "cell_type": "code",
   "execution_count": 187,
   "id": "31d4e917-d641-4ea3-a0af-69f101511ba9",
   "metadata": {},
   "outputs": [],
   "source": [
    "def predict(T, x):\n",
    "    pred_vec = Tree_Predict(T, x)\n",
    "    print(pred_vec)\n",
    "    lenHot = len(pred_vec)\n",
    "    l = np.argmax(pred_vec)\n",
    "    leaf = np.zeros(lenHot)\n",
    "    leaf[l] = 1\n",
    "    return leaf"
   ]
  },
  {
   "cell_type": "code",
   "execution_count": 189,
   "id": "26943948-eecc-4468-ba65-722b39df68c2",
   "metadata": {},
   "outputs": [
    {
     "name": "stdout",
     "output_type": "stream",
     "text": [
      "[0.02059971 0.93741618 0.04198348]\n",
      "[0. 1. 0.]\n"
     ]
    }
   ],
   "source": [
    "data =[-0.33,-0.8, 0.9, -0.07]\n",
    "print(predict(DT, data))"
   ]
  },
  {
   "cell_type": "code",
   "execution_count": 190,
   "id": "0da4954f-7d43-4a00-bdf1-cca1e8687fea",
   "metadata": {},
   "outputs": [
    {
     "name": "stdout",
     "output_type": "stream",
     "text": [
      "[2.05997074e-02 4.25540321e-06 9.79395787e-01]\n",
      "[0. 0. 1.]\n"
     ]
    }
   ],
   "source": [
    "data =[0.9,-0.8, 0.9, -0.07]\n",
    "print(predict(DT, data))"
   ]
  },
  {
   "cell_type": "code",
   "execution_count": null,
   "id": "ed68f57f-e488-4bf7-9ba4-090b968a697a",
   "metadata": {},
   "outputs": [],
   "source": []
  }
 ],
 "metadata": {
  "kernelspec": {
   "display_name": "Python 3",
   "language": "python",
   "name": "python3"
  },
  "language_info": {
   "codemirror_mode": {
    "name": "ipython",
    "version": 3
   },
   "file_extension": ".py",
   "mimetype": "text/x-python",
   "name": "python",
   "nbconvert_exporter": "python",
   "pygments_lexer": "ipython3",
   "version": "3.9.0"
  }
 },
 "nbformat": 4,
 "nbformat_minor": 5
}

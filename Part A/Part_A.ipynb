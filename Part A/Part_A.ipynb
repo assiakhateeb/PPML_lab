{
 "cells": [
  {
   "cell_type": "code",
   "execution_count": 2,
   "id": "a59f5542-2f4f-46d9-b4b7-14ae68508e94",
   "metadata": {},
   "outputs": [],
   "source": [
    "# Importing Libraries\n",
    "import pandas as pd\n",
    "from sklearn.datasets import load_iris\n",
    "from sklearn.tree import DecisionTreeClassifier"
   ]
  },
  {
   "cell_type": "code",
   "execution_count": 3,
   "id": "5a3fd35d-bcff-4164-93c6-9df1b7a1736f",
   "metadata": {},
   "outputs": [
    {
     "name": "stdout",
     "output_type": "stream",
     "text": [
      "     sepal length (cm)  sepal width (cm)  petal length (cm)  petal width (cm)\n",
      "0                  5.1               3.5                1.4               0.2\n",
      "1                  4.9               3.0                1.4               0.2\n",
      "2                  4.7               3.2                1.3               0.2\n",
      "3                  4.6               3.1                1.5               0.2\n",
      "4                  5.0               3.6                1.4               0.2\n",
      "..                 ...               ...                ...               ...\n",
      "145                6.7               3.0                5.2               2.3\n",
      "146                6.3               2.5                5.0               1.9\n",
      "147                6.5               3.0                5.2               2.0\n",
      "148                6.2               3.4                5.4               2.3\n",
      "149                5.9               3.0                5.1               1.8\n",
      "\n",
      "[150 rows x 4 columns]\n"
     ]
    }
   ],
   "source": [
    "#Load Data and store it into pandas DataFrame objects\n",
    "iris = load_iris()\n",
    "X = pd.DataFrame(iris.data[:, :], columns=iris.feature_names[:])\n",
    "print(X)"
   ]
  },
  {
   "cell_type": "code",
   "execution_count": 4,
   "id": "b31e9dcd-2391-4cf6-b1d9-c466fd816078",
   "metadata": {},
   "outputs": [
    {
     "name": "stdout",
     "output_type": "stream",
     "text": [
      "     Species\n",
      "0          0\n",
      "1          0\n",
      "2          0\n",
      "3          0\n",
      "4          0\n",
      "..       ...\n",
      "145        2\n",
      "146        2\n",
      "147        2\n",
      "148        2\n",
      "149        2\n",
      "\n",
      "[150 rows x 1 columns]\n"
     ]
    }
   ],
   "source": [
    "Y = pd.DataFrame(iris.target, columns=[\"Species\"])\n",
    "# Species are setosa,versicolor,virginica\n",
    "print(Y)"
   ]
  },
  {
   "cell_type": "code",
   "execution_count": 5,
   "id": "29d9b4b7-3f13-4ac6-a46f-85553a0a93c5",
   "metadata": {},
   "outputs": [
    {
     "data": {
      "text/plain": [
       "DecisionTreeClassifier(max_depth=5)"
      ]
     },
     "execution_count": 5,
     "metadata": {},
     "output_type": "execute_result"
    }
   ],
   "source": [
    "# Now let's fit a DecisionTreeClassifier instance\n",
    "tree = DecisionTreeClassifier(max_depth=5)\n",
    "tree.fit(X,Y)"
   ]
  },
  {
   "cell_type": "code",
   "execution_count": 6,
   "id": "5a5776ba-eb42-4c67-84d8-91d01bdc9391",
   "metadata": {},
   "outputs": [],
   "source": [
    "# Visualizing the build Decision tree\n",
    "from sklearn.tree import export_graphviz\n",
    "\n",
    "\"\"\" gini is a measure that is used to find a node to split on it\n",
    "    samples refer to the number of samples that are entering this node\n",
    "    value is a split of the data instances according to their class \n",
    "    value = [instances_num_of_setosa, instances_num_of_versicolor, instances_num_of_virginica]\n",
    "    class is what the decision tree would predict\n",
    "\"\"\"\n",
    "# Creates dot file named tree.dot\n",
    "export_graphviz(tree, out_file=\"myTree.dot\", feature_names=list(X.columns),\n",
    "                class_names=iris.target_names,\n",
    "                filled=True, rounded=True)\n"
   ]
  },
  {
   "cell_type": "code",
   "execution_count": null,
   "id": "5df6d1e4-95c7-4770-9ec8-1cfd42d20878",
   "metadata": {},
   "outputs": [],
   "source": []
  }
 ],
 "metadata": {
  "kernelspec": {
   "display_name": "Python 3",
   "language": "python",
   "name": "python3"
  },
  "language_info": {
   "codemirror_mode": {
    "name": "ipython",
    "version": 3
   },
   "file_extension": ".py",
   "mimetype": "text/x-python",
   "name": "python",
   "nbconvert_exporter": "python",
   "pygments_lexer": "ipython3",
   "version": "3.9.0"
  }
 },
 "nbformat": 4,
 "nbformat_minor": 5
}

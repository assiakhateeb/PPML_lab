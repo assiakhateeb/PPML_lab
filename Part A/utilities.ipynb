{
 "cells": [
  {
   "cell_type": "code",
   "execution_count": null,
   "id": "b95912d5-4473-40ff-850b-64d9a46cc016",
   "metadata": {},
   "outputs": [],
   "source": [
    "# Decision Tree Scikit Learn Example:\n",
    "https://www.youtube.com/watch?v=OBJ4ysavvcc\n",
    "    \n",
    "# Decision trees 10.1 \n",
    "# 1.10.1 Classification\n",
    "https://scikit-learn.org/stable/modules/tree.html"
   ]
  },
  {
   "cell_type": "code",
   "execution_count": null,
   "id": "7800a66e-4be0-4f20-8781-f6a8ed9fc753",
   "metadata": {},
   "outputs": [],
   "source": []
  }
 ],
 "metadata": {
  "kernelspec": {
   "display_name": "Python 3",
   "language": "python",
   "name": "python3"
  },
  "language_info": {
   "codemirror_mode": {
    "name": "ipython",
    "version": 3
   },
   "file_extension": ".py",
   "mimetype": "text/x-python",
   "name": "python",
   "nbconvert_exporter": "python",
   "pygments_lexer": "ipython3",
   "version": "3.9.0"
  }
 },
 "nbformat": 4,
 "nbformat_minor": 5
}
